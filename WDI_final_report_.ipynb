{
 "cells": [
  {
   "cell_type": "markdown",
   "metadata": {},
   "source": [
    "# [Predicting Income Groups Using World Development Indicators](https://github.com/dametreusv/world_development_indicators)\n",
    "----\n",
    "#### Source code, in depth analysis, and full modeling and predictions can be accessed via links throughout this report.\n",
    "[Data Wrangling](https://github.com/dametreusv/world_development_indicators/blob/master/WDI_wrangle.ipynb) - [Exploratory Data Analysis](https://nbviewer.jupyter.org/github/dametreusv/world_development_indicators/blob/master/WDI_analysis.ipynb) - [Milestone Report](https://nbviewer.jupyter.org/github/dametreusv/world_development_indicators/blob/master/WDI_milestone_report.ipynb) - [Predictive Modeling](https://nbviewer.jupyter.org/github/dametreusv/world_development_indicators/blob/master/WDA_modeling.ipynb)\n",
    "\n",
    "---"
   ]
  },
  {
   "cell_type": "markdown",
   "metadata": {},
   "source": [
    "<img src=\"https://github.com/dametreusv/world_development_indicators/blob/master/images/milestone_Labor%20force%20participation%20rate,%20total%20(%25%20of%20total%20population%20ages%2015-64)%20(modeled%20ILO%20estimate)_1.png?raw=true\">\n",
    "\n",
    "<img src=\"https://github.com/dametreusv/world_development_indicators/blob/master/images/milestone_Labor%20force%20participation%20rate,%20total%20(%25%20of%20total%20population%20ages%2015-64)%20(modeled%20ILO%20estimate)_2.png?raw=true\">\n",
    "\n",
    "----\n",
    "## Executive Summary\n",
    "\n",
    "[The World Development Indicators is a compilation of relevant, high-quality and internationally comparable statistics about global development and the fight against poverty.](http://datatopics.worldbank.org/world-development-indicators/)  In this case, we are looking at indicators, not related to GNI and GDP, in order to predict income groups, which help us understand a country's development level.  In predicting income groups, we are essentially predicting the class a country falls into economically.  Understanding this class is useful in being able to understand other nonmonetary measures of the quality of life such as life expectancy at birth, mortality rates of children, access to basic utilities, enrollment rates in school and more.\n",
    "\n",
    "Understanding the differences of quality of life among countries using development indicators and economic status can help us shrink the differences between third world and first world countries in our quest for true globalization.  For example countries, such as China, which is the second largest economy in the world but has been in the lower middle and upper middle income categories, has disparities in living standards throughout the country. Under 60% of the population have access to clean fuels and technologies for cooking, but over 97% have access to electricity. Access to basic drinking water has risen from 84% to 96% but using basic sanitation services has ranged from 65% to 84%.  Knowing this country's income group gives us a broad understanding of the development, living standards and quality of life it presents for it's citizens.\n",
    "\n",
    "With our best machine learning model, in this case the random forest, we can accurately determine the class a country falls into, ignoring the noise around it.  What makes this model more important, is that it can very precisely (99%) differentiate low income countries (emergency developmental needs) from lower middle income countries (serious developmental needs).\n",
    "\n",
    "<img src='https://github.com/dametreusv/world_development_indicators/blob/master/images/modeling_spider_score.png?raw=true' width='500'>"
   ]
  },
  {
   "cell_type": "markdown",
   "metadata": {},
   "source": [
    "-------\n",
    "## Introduction\n",
    "\n",
    "There are a plethora of factors that determine how developed a country is in the world. Typically, countries are considered to be developed if they:\n",
    "\n",
    "- Are highly industrialized.\n",
    "- Have a large female workforce and women in high ranking positions.\n",
    "- Use a disproportionate amount of the world’s resources.\n",
    "- Have stable birth and death rates.\n",
    "- Have higher levels of debt, usually for production.\n",
    "- Have a high Gross Domestic Production (GDP) per Capita\n",
    "- And much more.\n",
    "\n",
    "Outside of the developed category, there are developing countries that range from being highly developed to underdeveloped. For example; although it is the world’s second largest economy, China falls into a developing country category because of the disparity in it’s wealth, quality of life, and GDP per capita. Argentina is also considered a developing country because of its political disarray, economic uncertainty and erosion of quality of life despite ranking higher in vast majorities of metrics as compared to other countries.\n",
    "\n",
    "\n",
    "### Problem Statement:\n",
    "Development within a country will always be a continuous journey because of ever changing conditions. In the pursuit of maintaining and upgrading these conditions, we want to determine what stage of development a country is in and help it acquire the tools necessary to continue building itself.\n",
    "\n",
    "In this case, we are looking at indicators, not related to GNI and GDP, in order to predict income groups, which help us understand a country's development level.  In predicting income groups, we are essentially predicting the class a country falls into economically.  Understanding this class is useful in being able to understand other nonmonetary measures of the quality of life such as life expectancy at birth, mortality rates of children, access to basic utilities, enrollment rates in school and more.\n",
    "\n",
    "### Approach:\n",
    "In this project, we look at world development indicators, provided by the World Bank, which will help us predict income groups.  There are a total of 1600 indicators that help paint a picture of the development level of countries and regions, as well as their economic outlook. Visual and statistical EDA are performed to understand the correlation that several of these indicators have with each other, GNI per capita, income groups and world development.  Some of these indicators pertain to access to basic utilities, population growth, education, employment, environement and more.  Machine learning models, specifically, classification models are built and tuned for optimization for predicting the income group a country falls into based off of world development indicators not related to GNI or GDP.  5 separate models are tuned and tested and cross referenced with various methods of feature selection in order to find the highest performing model with the least amount of features needed.\n",
    "\n",
    "### The Client:\n",
    "In using world development indicators to predict income groups, Non-Government Organizations (NGO), such as World Health Organization, International Save the Children Alliance, World Youth Alliance and more, can determine disparities between economic prosperity on the micro and macro level and its relation to the development of countries.  NGOs can look at certain features that go hand in hand with development and national wealth and extract information that GNI, alone, can't always display.  For instance, GNI may be underestimated in lower-income economies that have more informal, subsistence activities and GNI does not reflect inequalities in income distribution.  For example, China has shifted between lower middle income and upper middle income despite having the world's 2nd largest economy.  This reflects in disparity of development and wealth through out the country and NGOs may choose to help in certain facets of the issue. \n",
    "\n",
    "From our analysis and recommendations, these NGOs can determine where certain countries are headed in their development stages, whether they are progressing or digressing, and determine what can be done to help in the development process.\n",
    "\n",
    "### Dataset\n",
    "[World Bank World Development Indicator Datasets](https://datacatalog.worldbank.org/dataset/world-development-indicators)\n",
    "- Has datasets with information on each of the 1600 indicators for each country dealing with world development over time, explanations of each indicator, placed into specific topics and information on the country's region, income group and more.  Each dataset is linked through certain unique values that could be used to combine them.\n",
    "\n",
    "[World Bank Help Desk](https://datahelpdesk.worldbank.org/knowledgebase/articles/378834-how-does-the-world-bank-classify-countries) \n",
    "- Has historical information on income groups and the GNI range countries needed to fall in to be classified a certain income group.\n",
    "\n",
    "### Overview\n",
    "\n",
    "Through analysis, we have found that:\n",
    "- Countries change income groups from year to year\n",
    "- Higher income groups are growing while lower income groups are shrinking.\n",
    "- Features are showing a growth in access and standards of living among all income groups.\n",
    "- This all leads to the world becoming more developed.\n",
    "\n",
    "\n",
    "The major indicator that determines income group is GNI per capita.  Countries fall into certain groups based off of this feature, which is also correlated to many world development indicators and is worth a deep dive.\n",
    "\n",
    "In analyzing our data, we were able to separate our features into various categories:\n",
    "- Economic Policy and Debt\n",
    "- Education and Gender Issues\n",
    "- Access to Advanced Communications\n",
    "- Environment, Resources and Population\n",
    "- Social Protection and Labor\n",
    "- Health\n",
    "\n",
    "We are looking to predict the economic standing of countries using world development so we dropped features that pertained to GNI and GDP. Feature selection is an important process to reduce training time and defend against overfitting. In selecting features, we used an anova based univariate method and also a tree based method. We were able to obtain a combination of 37, 25, 17 and 8 features to use when training our models.\n",
    "\n",
    "In training and testing our models, we created a pipeline that would simulate every feature and hyperparameter combination using a 5 fold cross validation method in order to give us the best method that we would test on unseen data and re-tune according to performance. Our models performed extremely well in predicting high income groups and really well in predicting low income groups. The models started to dip in accuracy, precision and recall as they attempted to predict upper and lower middle income groups. The model that performed the best was the random forest model, using only 17 out of 317 available features to predict income groups. This model had an accuracy, precision, recall and f1-score of just under 94%. What really set the model apart from all other models was its ability to be exremely precise in predicting low income groups, predicting 177 out of 178 correctly.\n",
    "\n"
   ]
  },
  {
   "cell_type": "markdown",
   "metadata": {},
   "source": [
    "--------\n",
    "## [Data Wrangling](https://nbviewer.jupyter.org/github/dametreusv/world_development_indicators/blob/master/WDI_milestone_report.ipynb#Wrangle)\n",
    "After looking through the initial data, we discovered that four datasets were needed in order to move forward with this project.  \n",
    "- WDIData.csv had information on each of the 1600 indicators for each country dealing with world development over time.\n",
    "- WDISeries.csv explained each indicator and placed them into a specific topic.\n",
    "- WDICountry.csv had information on the country's region, income group and more.\n",
    "- OGHIST.xls had income group history and criteria.\n",
    "\n",
    "The concatenated, raw dataset had 422,196 rows and 90 columns.  The rows were of each indicator for each country, region and subset of similar countries while the columns contained changes over time, categorical information and definitions. Initially over half the data was missing, mostly because many indicators weren't being recorded as early as others.  The starting year was 1960.  We decided to keep it current and only used information between 2005 and 2016.\n",
    "\n",
    "Through data wrangling, we were able to:\n",
    "- Read in raw data\n",
    "- Merge datasets\n",
    "- Categorize indicators\n",
    "- Drop insufficient information\n",
    "- Drop unrelated columns\n",
    "- Standardize column names\n",
    "- Extract countries\n",
    "- Drop columns with too much missing data\n",
    "- Drop indicators with too much missing data\n",
    "- Find the income group of each country for each year\n",
    "- Drop incorrect data\n",
    "- Pivot the dataset for analysis and modeling\n",
    "\n",
    "We are left with 202 countries and 341 world development indicators.\n",
    "\n",
    "<img src=\"https://github.com/dametreusv/world_development_indicators/blob/master/images/wrangle_missing_data.png?raw=true\" width=\"500\"> [code and analysis for graphic](https://github.com/dametreusv/world_development_indicators/blob/master/WDI_wrangle.ipynb)"
   ]
  },
  {
   "cell_type": "markdown",
   "metadata": {},
   "source": [
    "-----\n",
    "## [Exploratory Data Analysis](https://nbviewer.jupyter.org/github/dametreusv/world_development_indicators/blob/master/WDI_analysis.ipynb#Import)\n",
    "\n",
    "#### [Income Groups Change Over Time](https://nbviewer.jupyter.org/github/dametreusv/world_development_indicators/blob/master/WDI_analysis.ipynb#Year)\n",
    "\n",
    "According to the bar graph below, we have discovered that:\n",
    "- Countries change income groups from year to year\n",
    "- Higher income groups are growing while lower income groups are shrinking from year to year.\n",
    "- The shift happening between income groups is showing that the world is becoming more developed.\n",
    "\n",
    "<img src=\"https://github.com/dametreusv/world_development_indicators/blob/master/images/eda_change.png?raw=true\">  [code and analysis for graphic](https://nbviewer.jupyter.org/github/dametreusv/world_development_indicators/blob/master/WDI_analysis.ipynb#functions)\n",
    "\n",
    "\n"
   ]
  },
  {
   "cell_type": "markdown",
   "metadata": {},
   "source": [
    "#### [GNI per capita has a direct correlation to income groups](https://nbviewer.jupyter.org/github/dametreusv/world_development_indicators/blob/master/WDI_analysis.ipynb#Income)\n",
    "\n",
    "As we move through this analysis we will see how the change in time affects income groups and indicators, but we first must look at what is the deciding factor in determining how a country falls into a certain income group.  Below is a plot showing the cumulative distribution of all income groups.  We will be comparing our indicators to GNI per capita as they pertain to income groups while we look at how income groups differentiate themselves within each indicator.\n",
    "\n",
    "<img src=\"https://github.com/dametreusv/world_development_indicators/blob/master/images/eda_gni_fat.png?raw=true\">  [code and analysis for graphic](https://nbviewer.jupyter.org/github/dametreusv/world_development_indicators/blob/master/WDI_analysis.ipynb#Income)  "
   ]
  },
  {
   "cell_type": "markdown",
   "metadata": {},
   "source": [
    "#### [Economic Policy and Debt](https://nbviewer.jupyter.org/github/dametreusv/world_development_indicators/blob/master/WDI_analysis.ipynb#Economic)\n",
    "\n",
    "We have found that GNI and GDP both deal with the economic outlook of a country.  Also, external balance of goods and services are heavily skewed to countries that consume and countries that produce.  Many center their entire economic policies around their production or consumption of resources.  Annual GDP growth is larger among lower income countries than higher income countries.  On average, low income countries outpace high income countries in annual GDP growth by 3.1% annually.  \n",
    "\n",
    "<img src=\"https://github.com/dametreusv/world_development_indicators/blob/master/images/milestone_GDP%20growth%20(annual%20%25)_1.png?raw=true\">\n",
    "\n",
    "<img src=\"https://github.com/dametreusv/world_development_indicators/blob/master/images/milestone_GDP%20growth%20(annual%20%25)_2.png?raw=true\">  [code for charts](https://nbviewer.jupyter.org/github/dametreusv/world_development_indicators/blob/master/WDI_analysis.ipynb#View)  "
   ]
  },
  {
   "cell_type": "markdown",
   "metadata": {},
   "source": [
    "#### [Education and Gender Issues](https://nbviewer.jupyter.org/github/dametreusv/world_development_indicators/blob/master/WDI_analysis.ipynb#Education)\n",
    "\n",
    "The average required amount of years for schooling among all income groups is between 8 and 10 years with little correlation to GNI per capita.  The average proportion of seats held by women in national parliaments ranges between 21.8% and 17.5% for all income groups which leads to very little correlation to GNI per capita.\n",
    "\n",
    "<img src=\"https://github.com/dametreusv/world_development_indicators/blob/master/images/milestone_Compulsory%20education%2C%20duration%20(years)_1.png?raw=true\">\n",
    "\n",
    "<img src=\"https://github.com/dametreusv/world_development_indicators/blob/master/images/milestone_Compulsory%20education%2C%20duration%20(years)_2.png?raw=true\">\n",
    "\n"
   ]
  },
  {
   "cell_type": "markdown",
   "metadata": {},
   "source": [
    "#### [Access to Advanced Communications](https://nbviewer.jupyter.org/github/dametreusv/world_development_indicators/blob/master/WDI_analysis.ipynb#Access)\n",
    "\n",
    "Internet usage varies exponentially among income groups but with the prevalence of the internet, usage appears considerably low.  This is likely due to differences in age and population location (rural vs. urban).  Over time, all income groups have seen a rise in their populations using the internet, which is very much correlated to GNI per capita.  Mobile cellular subscriptions increase with the income level of a country.  Also, all income groups have seen a large increase in mobile cellular subscriptions rates ranging between a 50 and 60 rate increase per group.\n",
    "\n",
    "<img src=\"https://github.com/dametreusv/world_development_indicators/blob/master/images/milestone_Individuals%20using%20the%20Internet%20(%25%20of%20population)_1.png?raw=true\">\n",
    "\n",
    "<img src=\"https://github.com/dametreusv/world_development_indicators/blob/master/images/milestone_Individuals%20using%20the%20Internet%20(%25%20of%20population)_2.png?raw=true\">\n",
    "\n"
   ]
  },
  {
   "cell_type": "markdown",
   "metadata": {},
   "source": [
    "#### [Environment, Resources and Population](https://nbviewer.jupyter.org/github/dametreusv/world_development_indicators/blob/master/WDI_analysis.ipynb#Environment)\n",
    "\n",
    "Access to electricity is extremely prevalent among high and upper middle income countries and starts to dip as among lower middle and low income countries.  Access to clean fuels and technologies for cooking relates to access to electricity as the visual depictions of the data look identical.  Total natural resources rents see a few countries, regardless of income group, produce most of the natural resources involved in oil, natural gases, coal, minerals and forests.  There is a significant difference in means of urban population to total population from income group to income group.  This is likely due to the differences in workforce which can be seen in the social protection and labor section.  Urban population is directly negatively correlated to rural population.\n",
    "\n",
    "<img src=\"https://github.com/dametreusv/world_development_indicators/blob/master/images/milestone_Total%20natural%20resources%20rents%20(%25%20of%20GDP)_1.png?raw=true\">\n",
    "\n",
    "<img src=\"https://github.com/dametreusv/world_development_indicators/blob/master/images/milestone_Total%20natural%20resources%20rents%20(%25%20of%20GDP)_2.png?raw=true\">\n",
    "\n"
   ]
  },
  {
   "cell_type": "markdown",
   "metadata": {},
   "source": [
    "#### [Social Protection and Labor](https://nbviewer.jupyter.org/github/dametreusv/world_development_indicators/blob/master/WDI_analysis.ipynb#Social)\n",
    "\n",
    "Labor force participation is roughly the same for high income countries and low income countries at 71%, and is on the rise.  It is possible that the need to work in low income countries to survive and the need to work in high income countries to maintain lifestyle is why they are just about even.  Contributing family workers are those who work with family members who operate their own businesses.  Low income countries high the highest percentage of contributing family workers.  This is likely due to the need to work as a community within a household in order to survive as income categories lessen.  For example, a family in a third world country may own and operate a small grocery store from within their house, or parents employing their children in a restaurant.  The ratio of dependents (under 15 and over 64) to the working population grows as income groups become lower.  This is likely due to the increased rate of fertility for women in lower income countries coupled with the possibility that people over 64 years of age are more likely to have retirement funds in higher income countries.\n",
    "\n",
    "Employment in services is extremely high among high income countries and dips in lower income countries.  This is likely because high income countries engage in more service related jobs, while low income countries engage in more agriculture related jobs.  While over half of the total workforce in low income countries work in agriculture, not even 1 in 20 of the total workforce do in high income countries.  The difference in means is over 56%.  Employment in industry, among all income groups, have seen a drop.  This is probably due to the increase of automation in manufacturing, quarrying, mining and some utility jobs.\n",
    "\n",
    "<img src=\"https://github.com/dametreusv/world_development_indicators/blob/master/images/milestone_Employment%20in%20services%20(%25%20of%20total%20employment)%20(modeled%20ILO%20estimate)_1.png?raw=true\">\n",
    "\n",
    "<img src=\"https://github.com/dametreusv/world_development_indicators/blob/master/images/milestone_Employment%20in%20services%20(%25%20of%20total%20employment)%20(modeled%20ILO%20estimate)_2.png?raw=true\">\n",
    "\n"
   ]
  },
  {
   "cell_type": "markdown",
   "metadata": {},
   "source": [
    "#### [Health](https://nbviewer.jupyter.org/github/dametreusv/world_development_indicators/blob/master/WDI_analysis.ipynb#Health)\n",
    "\n",
    "Access to basic drinking water is major in determining income groups.  Although, on average, life expectancy is much higher among high income countries, the minimum life expectancy among most income groups is on the rise per year with low income countries leading the extension averaging a 3 year increase in life expectancy.\n",
    "\n",
    "<img src=\"https://github.com/dametreusv/world_development_indicators/blob/master/images/milestone_Life%20expectancy%20at%20birth%2C%20total%20(years)_1.png?raw=true\">\n",
    "\n",
    "<img src=\"https://github.com/dametreusv/world_development_indicators/blob/master/images/milestone_Life%20expectancy%20at%20birth%2C%20total%20(years)_2.png?raw=true\">  [code for charts](https://nbviewer.jupyter.org/github/dametreusv/world_development_indicators/blob/master/WDI_analysis.ipynb#View)  "
   ]
  },
  {
   "cell_type": "markdown",
   "metadata": {},
   "source": [
    "-----\n",
    "## [Modeling](https://nbviewer.jupyter.org/github/dametreusv/world_development_indicators/blob/master/WDA_modeling.ipynb#Import)\n",
    "\n",
    "#### [NaN Values](https://nbviewer.jupyter.org/github/dametreusv/world_development_indicators/blob/master/WDA_modeling.ipynb#Fill)\n",
    "\n",
    "In order to optimize our machine learning models, there are many things to take into account.  First we must find a way to deal with NaN values, in this case we took the mean of each feature as it pertained to each income group and imputed the mean where NaN values existed.  Imputing the mean of each income group and feature, as opposed to just each feature, helped in preventing outliers and noise within our dataset.  \n",
    "\n",
    "<img src='https://github.com/dametreusv/world_development_indicators/blob/master/images/modeling_missing.png?raw=true' width='500'>  [code and analysis for graphic](https://nbviewer.jupyter.org/github/dametreusv/world_development_indicators/blob/master/WDA_modeling.ipynb#Fill)  "
   ]
  },
  {
   "cell_type": "markdown",
   "metadata": {},
   "source": [
    "#### [GNI, GDP and World Development](https://nbviewer.jupyter.org/github/dametreusv/world_development_indicators/blob/master/WDA_modeling.ipynb#Drop)\n",
    "\n",
    "Our dataset also had features, such as GNI and GDP, which directly affects the income group a country falls into.  Observing the distribution of countries within each income group using these features gave us a pretty transparent distinction of where income groups would intersect/separate.  In predicting income groups, we wanted to use world development indicators (access to electricity, natural gas rents, imports of goods and services, access to basic drinking water) instead of economic outlook of each country so we removed these features.  In other words, we wanted to measure world development against economic status.\n",
    "\n",
    "<img src='https://github.com/dametreusv/world_development_indicators/blob/master/images/modeling_gni_dists.png?raw=true'>  [code and analysis for graphic](https://nbviewer.jupyter.org/github/dametreusv/world_development_indicators/blob/master/WDA_modeling.ipynb#Drop)  \n",
    "<img src='https://github.com/dametreusv/world_development_indicators/blob/master/images/model_GNI_Intersection_of_Income_Groups.png?raw=true'>  [code and analysis for graphic](https://nbviewer.jupyter.org/github/dametreusv/world_development_indicators/blob/master/WDA_modeling.ipynb#GNI)  "
   ]
  },
  {
   "cell_type": "markdown",
   "metadata": {},
   "source": [
    "#### [Split Data and Normalize Train and Test Sets](https://nbviewer.jupyter.org/github/dametreusv/world_development_indicators/blob/master/WDA_modeling.ipynb#Split)\n",
    "\n",
    "We split our data into two, independent variables and target variable (prediction).  We also split the data into training and testing sets.  The testing set remained unused until the parameters were tuned and features selected so that our models could work with unseen data.  The goal was to prevent data leakage into the test set.\n",
    "\n",
    "Data was also on several different scales such as population, percentage, growth.  Numbers ranged from less than 1 to millions.  Because of this we normalized or our data by subtracting each value by the mean of the column and dividing by the standard deviation. "
   ]
  },
  {
   "cell_type": "markdown",
   "metadata": {},
   "source": [
    "#### [Feature Selection](https://nbviewer.jupyter.org/github/dametreusv/world_development_indicators/blob/master/WDA_modeling.ipynb#Feature)\n",
    "\n",
    "Feature selection was an important process so that we could reduce training time and defend against overfitting.  Also we wanted to determine which features had more correlation with income groups (feature importance).  We used an anova based univariate method in selecting features and also a tree based method in selecting features.\n",
    "<img src='https://github.com/dametreusv/world_development_indicators/blob/master/images/modeling_feature.png?raw=true'>  [code and analysis for graphic](https://nbviewer.jupyter.org/github/dametreusv/world_development_indicators/blob/master/WDA_modeling.ipynb#Feature2)  \n",
    "- We took the top 25 features selected from each method and combined them and dropped the duplicates which gave us 37 features.\n",
    "- We took the top 10 features selected from each method and combined them and dropped the duplicates which gave us 17 features.\n",
    "- We took the top 5 features selected from each method and combined them and dropped the duplicates which gave us 8 features.\n",
    "- We took only features that were identified as important in both feature selecting methods  which gave us 13 features.\n",
    "- We took each feature selecting method and used its top 25 features on its own.\n",
    "- We took all of the features in the dataset and tested the performance of each model.\n",
    "\n"
   ]
  },
  {
   "cell_type": "markdown",
   "metadata": {},
   "source": [
    "#### [Training and Testing our Models](https://nbviewer.jupyter.org/github/dametreusv/world_development_indicators/blob/master/WDA_modeling.ipynb#Model)\n",
    "\n",
    "<img src='https://github.com/dametreusv/world_development_indicators/blob/master/images/modeling_random_forest.png?raw=true' width='700'>  [code and analysis for graphic](https://nbviewer.jupyter.org/github/dametreusv/world_development_indicators/blob/master/WDA_modeling.ipynb#rf)  \n",
    "\n",
    "In training and testing our models, we created a pipeline that would test every feature and hyperparameter combination using a 5 fold cross validation method that would give us the average score of the best feature-hyperparameter combination using only the training data, 70% of the dataset.  We would then test the feature and hyperparameters on unseen data (test set) to see how well each model performed.  Some models performed best on the selected features, while others needed retuning and new feature selections.  Some models performed best using all the features in the dataset, but we found tunings that would have them perform just about as well on a small fraction of the features.\n",
    "\n",
    "To view the tuning and testing of our models click a model below:\n",
    "- [Random Forest](https://nbviewer.jupyter.org/github/dametreusv/world_development_indicators/blob/master/WDA_modeling.ipynb#rf)\n",
    "- [Logistic Regression](https://nbviewer.jupyter.org/github/dametreusv/world_development_indicators/blob/master/WDA_modeling.ipynb#lr)\n",
    "- [Support Vector Machines](https://nbviewer.jupyter.org/github/dametreusv/world_development_indicators/blob/master/WDA_modeling.ipynb#svc)\n",
    "- [k-Nearest Neighbors](https://nbviewer.jupyter.org/github/dametreusv/world_development_indicators/blob/master/WDA_modeling.ipynb#knn)\n",
    "- [Gradient Boosting](https://nbviewer.jupyter.org/github/dametreusv/world_development_indicators/blob/master/WDA_modeling.ipynb#gb)\n",
    "\n",
    "<img src='https://github.com/dametreusv/world_development_indicators/blob/master/images/modeling_scores.png?raw=true' width='1000'>  [code and analysis for graphic](https://nbviewer.jupyter.org/github/dametreusv/world_development_indicators/blob/master/WDA_modeling.ipynb#Bar)   "
   ]
  },
  {
   "cell_type": "markdown",
   "metadata": {},
   "source": [
    "#### [Evaluating Performance](https://nbviewer.jupyter.org/github/dametreusv/world_development_indicators/blob/master/WDA_modeling.ipynb#Compare)\n",
    "\n",
    "We found that our models performed extremely well in predicting high income groups and really well in predicting low income groups.  The models started to dip in accuracy, precision and recall as they attempted to predict upper and lower middle income groups.  \n",
    "\n",
    "The model that performed the best was the random forest model, using only [17 features](https://nbviewer.jupyter.org/github/dametreusv/world_development_indicators/blob/master/WDA_modeling.ipynb#Feature2) to predict income groups.  This model had an accuracy, precision, recall and f1-score of just under 94%.  What really set the model apart from all other models was its ability to be exremely precise in predicting low income groups, predicting 177 out of 178 correctly.\n",
    "\n",
    "<img src='https://github.com/dametreusv/world_development_indicators/blob/master/images/modeling_spider_scores2.png?raw=true'  width='500'> [code and analysis for graphic](https://nbviewer.jupyter.org/github/dametreusv/world_development_indicators/blob/master/WDA_modeling.ipynb#Spider) \n",
    "\n",
    "#### [Compare Predictions with Various Feature Selection](https://nbviewer.jupyter.org/github/dametreusv/world_development_indicators/blob/master/WDA_modeling.ipynb#Compare2)"
   ]
  },
  {
   "cell_type": "markdown",
   "metadata": {},
   "source": [
    "----\n",
    "## [Conclusion](https://nbviewer.jupyter.org/github/dametreusv/world_development_indicators/blob/master/WDA_modeling.ipynb#Conclusion)\n",
    "In conclusion, economic indicators such as GNI per capita does not completely summarize a country's level of development but it is closely correlated to it. In predicting world development, it is important to look at other measures such as quality of life, life expectancy at birth, mortality rates of children, access to basic utilities, enrollment rates in school and more. It can also be good to see how these measures are correlated to GNI per capita in order to look at disparities within rich and poor countries and their development. Countries, such as China, which is the second largest economy but has been in the lower middle and upper middle income categories, has disparities in living standards throughout the country. For example, under 60% of the population have access to clean fuels and technologies for cooking, but over 97% have access to electricity. Access to basic drinking water has risen from 84% to 96% but using basic sanitation services has ranged from 65% to 84%.  Understanding the differences of quality of life among countries using development indicators and economic status can help us shrink the differences between third world and first world countries in our quest for true globalization."
   ]
  },
  {
   "cell_type": "markdown",
   "metadata": {},
   "source": [
    "----\n",
    "---\n",
    "---\n",
    "---"
   ]
  }
 ],
 "metadata": {
  "kernelspec": {
   "display_name": "Python 3",
   "language": "python",
   "name": "python3"
  },
  "language_info": {
   "codemirror_mode": {
    "name": "ipython",
    "version": 3
   },
   "file_extension": ".py",
   "mimetype": "text/x-python",
   "name": "python",
   "nbconvert_exporter": "python",
   "pygments_lexer": "ipython3",
   "version": "3.7.1"
  }
 },
 "nbformat": 4,
 "nbformat_minor": 2
}
